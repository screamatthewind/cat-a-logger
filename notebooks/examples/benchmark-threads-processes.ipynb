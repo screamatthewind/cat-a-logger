{
 "cells": [
  {
   "cell_type": "markdown",
   "metadata": {},
   "source": [
    "Python's Threading does not work properly because of the GIL (Global Interpreter Lock)\n",
    "This notebook shows the difference between single threadeding, threading, and multiprocessing"
   ]
  },
  {
   "cell_type": "code",
   "execution_count": null,
   "metadata": {},
   "outputs": [],
   "source": [
    "import random\n",
    "from threading import Thread\n",
    "from multiprocessing import Process\n",
    "\n",
    "size = 10000000   # Number of random numbers to add to list\n",
    "threads = 10 # Number of threads to create\n",
    "my_list = []\n",
    "\n",
    "for i in range(0,threads):\n",
    "    my_list.append([])\n",
    "    \n",
    "def func(count, mylist):\n",
    "    for i in range(count):\n",
    "        mylist.append(random.random())\n",
    "\n",
    "def multithreaded():\n",
    "    jobs = []\n",
    "    \n",
    "    for i in range(0, threads):\n",
    "        thread = Thread(target=func,args=(size,my_list[i]))\n",
    "        jobs.append(thread)\n",
    "        \n",
    "    # Start the threads\n",
    "    for j in jobs:\n",
    "        j.start() \n",
    "        \n",
    "    # Ensure all of the threads have finished\n",
    "    for j in jobs:\n",
    "        j.join()\n",
    "\n",
    "def simple():\n",
    "    for i in range(0, threads):\n",
    "        func(size,my_list[i])\n",
    "\n",
    "def multiprocessed():\n",
    "    processes = []\n",
    "    \n",
    "    for i in range(0, threads):\n",
    "        p = Process(target=func,args=(size,my_list[i]))\n",
    "        processes.append(p)\n",
    "        \n",
    "    # Start the processes\n",
    "    for p in processes:\n",
    "        p.start()\n",
    "\n",
    "    # Ensure all processes have finished execution\n",
    "    for p in processes:\n",
    "        p.join()\n",
    "\n",
    "import time\n",
    "import glob\n",
    "\n",
    "\n",
    "if __name__ == \"__main__\":\n",
    "#    start_time = time.time()\n",
    "#    multithreaded()\n",
    "#    print('multithreaded: {:.1f}'.format(time.time()-start_time) + ' Secs')        \n",
    "    \n",
    "#    start_time = time.time()\n",
    "#    simple()\n",
    "#    print('simple: {:.1f}'.format(time.time()-start_time) + ' Secs')        \n",
    "    \n",
    "    start_time = time.time()\n",
    "    multiprocessed()\n",
    "    print('multiprocessed: {:.1f}'.format(time.time()-start_time) + ' Secs')        \n"
   ]
  },
  {
   "cell_type": "code",
   "execution_count": null,
   "metadata": {},
   "outputs": [],
   "source": []
  }
 ],
 "metadata": {
  "kernelspec": {
   "display_name": "Python 3",
   "language": "python",
   "name": "python3"
  },
  "language_info": {
   "codemirror_mode": {
    "name": "ipython",
    "version": 3
   },
   "file_extension": ".py",
   "mimetype": "text/x-python",
   "name": "python",
   "nbconvert_exporter": "python",
   "pygments_lexer": "ipython3",
   "version": "3.7.9"
  }
 },
 "nbformat": 4,
 "nbformat_minor": 4
}