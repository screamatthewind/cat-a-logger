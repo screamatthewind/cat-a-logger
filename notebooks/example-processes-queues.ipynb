{
 "cells": [
  {
   "cell_type": "markdown",
   "metadata": {},
   "source": [
    "https://stackoverflow.com/questions/11515944/how-to-use-multiprocessing-queue-in-python"
   ]
  },
  {
   "cell_type": "code",
   "execution_count": 1,
   "metadata": {},
   "outputs": [
    {
     "name": "stdout",
     "output_type": "stream",
     "text": [
      "Sending 10000 numbers to Queue() took 0.055001258850097656 seconds\n",
      "Sending 100000 numbers to Queue() took 0.12903046607971191 seconds\n",
      "Sending 1000000 numbers to Queue() took 1.2624118328094482 seconds\n",
      "Done\n"
     ]
    }
   ],
   "source": [
    "from multiprocessing import Process, Queue\n",
    "import time\n",
    "import sys\n",
    "\n",
    "def reader_proc(queue):\n",
    "    ## Read from the queue; this will be spawned as a separate Process\n",
    "    while True:\n",
    "        msg = queue.get()         # Read from the queue and do nothing\n",
    "        if (msg == 'DONE'):\n",
    "            break\n",
    "\n",
    "def writer(count, queue):\n",
    "    ## Write to the queue\n",
    "    for ii in range(0, count):\n",
    "        queue.put(ii)             # Write 'count' numbers into the queue\n",
    "    queue.put('DONE')\n",
    "\n",
    "if __name__=='__main__':\n",
    "    pqueue = Queue() # writer() writes to pqueue from _this_ process\n",
    "    for count in [10**4, 10**5, 10**6]:             \n",
    "        ### reader_proc() reads from pqueue as a separate process\n",
    "        reader_p = Process(target=reader_proc, args=((pqueue),))\n",
    "        reader_p.daemon = True\n",
    "        reader_p.start()        # Launch reader_proc() as a separate python process\n",
    "\n",
    "        _start = time.time()\n",
    "        writer(count, pqueue)    # Send a lot of stuff to reader()\n",
    "        reader_p.join()         # Wait for the reader to finish\n",
    "        print(\"Sending {0} numbers to Queue() took {1} seconds\".format(count, (time.time() - _start)))\n",
    "        \n",
    "print(\"Done\")"
   ]
  },
  {
   "cell_type": "code",
   "execution_count": null,
   "metadata": {},
   "outputs": [],
   "source": []
  }
 ],
 "metadata": {
  "kernelspec": {
   "display_name": "Python 3",
   "language": "python",
   "name": "python3"
  },
  "language_info": {
   "codemirror_mode": {
    "name": "ipython",
    "version": 3
   },
   "file_extension": ".py",
   "mimetype": "text/x-python",
   "name": "python",
   "nbconvert_exporter": "python",
   "pygments_lexer": "ipython3",
   "version": "3.7.9"
  }
 },
 "nbformat": 4,
 "nbformat_minor": 4
}
