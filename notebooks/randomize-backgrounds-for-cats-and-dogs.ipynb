{
 "cells": [
  {
   "cell_type": "code",
   "execution_count": null,
   "metadata": {},
   "outputs": [],
   "source": [
    "# Input data files are available in the \"../input/\" directory.\n",
    "# For example, running this (by clicking run or pressing Shift+Enter) will list the files in the input directory\n",
    "\n",
    "# from subprocess import check_output\n",
    "# print(check_output([\"ls\", \"../input\"]).decode(\"utf8\"))"
   ]
  },
  {
   "cell_type": "code",
   "execution_count": null,
   "metadata": {},
   "outputs": [],
   "source": [
    "KAGGLE_INPUT_PATH='/home/kaggle/input'\n",
    "KAGGLE_INPUT_SYMLINK='/kaggle'"
   ]
  },
  {
   "cell_type": "code",
   "execution_count": null,
   "metadata": {
    "_cell_guid": "b1076dfc-b9ad-4769-8c92-a6c4dae69d19",
    "_uuid": "8f2839f25d086af736a60e9eeb907d3b93b6e0e5"
   },
   "outputs": [],
   "source": [
    "INPUT_BACKGROUND_FILES = KAGGLE_INPUT_PATH + '/stanford-background-dataset/images'\n",
    "INPUT_FOREGROUND_FILES = './output/augmented-cats-and-dogs'\n",
    "\n",
    "OUTPUT_DATASET_ID = 'random-backgrounds-for-cats-and-dogs'\n",
    "OUTPUT_DATASET_NAME = 'Random Backgrounds for Cats and Dogs'\n",
    "OUTPUT_PATH = './output/final-randomized-cats-and-dogs'\n",
    "\n",
    "# kaggle_secrets not supported by Google Cloud Platform for Kaggle(Beta) at this time\n",
    "# from kaggle_secrets import UserSecretsClient\n",
    "# user_secrets = UserSecretsClient()\n",
    "#API_TOKEN = user_secrets.get_secret(\"Crop Cats and Cogs YOLOv3\")\n",
    "\n",
    "USER_ID = 'KAGGLE-USERNAME' # use your own username\n",
    "API_TOKEN = 'KAGGLE-API-TOKEN' # use your own kaggle api key\n",
    "\n",
    "# same size is used in Augment Cats and Dogs\n",
    "MIN_SCALE = 0.2\n",
    "MAX_SCALE = 0.5\n",
    "\n",
    "run_limit = 100"
   ]
  },
  {
   "cell_type": "code",
   "execution_count": null,
   "metadata": {
    "_cell_guid": "79c7e3d0-c299-4dcb-8224-4455121ee9b0",
    "_uuid": "d629ff2d2480ee46fbb7e2d37f6b5fab8052498a"
   },
   "outputs": [],
   "source": [
    "import os\n",
    "if not os.path.exists(OUTPUT_PATH):\n",
    "    os.makedirs(OUTPUT_PATH)"
   ]
  },
  {
   "cell_type": "code",
   "execution_count": null,
   "metadata": {},
   "outputs": [],
   "source": [
    "import cv2\n",
    "import numpy as np\n",
    "\n",
    "# scale image by scale_factor, keep aspect ratio\n",
    "def scale_image(image, scale_factor):\n",
    "    \n",
    "    image = np.array(image)\n",
    "    image = cv2.resize(image, (0,0), fx=scale_factor, fy=scale_factor)\n",
    "\n",
    "    image = Image.fromarray(image)\n",
    "    \n",
    "    return image"
   ]
  },
  {
   "cell_type": "code",
   "execution_count": null,
   "metadata": {},
   "outputs": [],
   "source": [
    "import random\n",
    "from PIL import Image, ImageDraw, ImageOps\n",
    "import matplotlib.pyplot as plt\n",
    "\n",
    "background_path, background_dir, background_files = next(os.walk(INPUT_BACKGROUND_FILES))\n",
    "foreground_path, foreground_dir, foreground_files = next(os.walk(INPUT_FOREGROUND_FILES))\n",
    "\n",
    "for i in range(run_limit):\n",
    "\n",
    "    random_background_image_num = random.randrange(len(background_files))\n",
    "    random_foreground_image_num = random.randrange(len(foreground_files))\n",
    "\n",
    "    background_image_filename = background_path + '/' + background_files[random_background_image_num]\n",
    "    foreground_image_filename = foreground_path + '/' + foreground_files[random_foreground_image_num]\n",
    "\n",
    "    background_image = Image.open(background_image_filename)\n",
    "    foreground_image = Image.open(foreground_image_filename)\n",
    "\n",
    "    if 'neg' in foreground_image_filename:\n",
    "        background_image = ImageOps.grayscale(background_image)\n",
    "        background_image = ImageOps.invert(background_image)\n",
    "                \n",
    "    elif 'bw' in foreground_image_filename:\n",
    "        background_image = ImageOps.grayscale(background_image)\n",
    "\n",
    "    # composite randomly scaled forground image at random position on random background image\n",
    "    scale_factor = random.uniform(MIN_SCALE, MAX_SCALE)\n",
    "    foreground_image = scale_image(foreground_image, scale_factor)\n",
    "\n",
    "    # paste foreground image onto background image at random position\n",
    "    foreground_image_width, foreground_image_height = foreground_image.size\n",
    "    background_image_width, background_image_height = background_image.size\n",
    "\n",
    "    x_max_pos = background_image_width - foreground_image_height\n",
    "    y_max_pos = background_image_height - foreground_image_height\n",
    "    \n",
    "    x_pos_factor = random.uniform(0, 1)\n",
    "    y_pos_factor = random.uniform(0, 1)\n",
    "    \n",
    "    x_new_pos = int(x_max_pos * x_pos_factor)\n",
    "    y_new_pos = int(y_max_pos * y_pos_factor)\n",
    "    \n",
    "    background_image = background_image.convert('RGBA') # make images have same number of color channels\n",
    "    background_image.paste(foreground_image, (x_new_pos, y_new_pos), foreground_image) # 3rd parm is mask\n",
    "\n",
    "    # draw bounding box \n",
    "    draw = ImageDraw.Draw(background_image)\n",
    "    draw.rectangle(((x_new_pos, y_new_pos), (x_new_pos + foreground_image_width, y_new_pos + foreground_image_height)), outline=(255, 0, 0), width = 3)\n",
    "\n",
    "    # save composite image\n",
    "    filename = os.path.basename(foreground_image_filename)\n",
    "    fname, ext = os.path.splitext(filename) \n",
    "\n",
    "    background_image = background_image.convert('RGB') \n",
    "    background_image.save(OUTPUT_PATH + '/' + fname  + '-final.jpg', 'jpeg')\n",
    "    \n",
    "    # plt.imshow(background_image)   \n",
    "    # plt.show()\n",
    "    \n",
    "    # plt.imshow(foreground_image)   \n",
    "    # plt.show()"
   ]
  },
  {
   "cell_type": "code",
   "execution_count": null,
   "metadata": {},
   "outputs": [],
   "source": [
    "! python -m pip install --index-url https://test.pypi.org/simple/ --no-deps kaggle_uploader-screamatthewind"
   ]
  },
  {
   "cell_type": "code",
   "execution_count": null,
   "metadata": {},
   "outputs": [],
   "source": [
    "# Google Cloud Plaform for Kaggle(Beta) does not support /usr/lib modules at this time \n",
    "# Save Output Dataset\n",
    "\n",
    "import time\n",
    "import os\n",
    "\n",
    "from kaggle_uploader import kaggle_uploader \n",
    "\n",
    "print(\"Saving Images\")\n",
    "start_time = time.time()\n",
    "\n",
    "# kaggle_secrets are not supported by Google Cloud Platform for Kaggle(Beta) at this time\n",
    "# from kaggle_secrets import UserSecretsClient\n",
    "# user_secrets = UserSecretsClient()\n",
    "# api_secret = user_secrets.get_secret(\"Crop Cats and Cogs YOLOv3\")\n",
    "\n",
    "kaggle_uploader.resources = []\n",
    "kaggle_uploader.init_on_kaggle(USER_ID, API_TOKEN)\n",
    "kaggle_uploader.base_path = OUTPUT_PATH\n",
    "kaggle_uploader.title = OUTPUT_DATASET_NAME\n",
    "kaggle_uploader.dataset_id = OUTPUT_DATASET_ID\n",
    "kaggle_uploader.user_id = USER_ID\n",
    "\n",
    "for filename in os.listdir(kaggle_uploader.base_path):\n",
    "    kaggle_uploader.add_resource(filename, filename)\n",
    "    \n",
    "kaggle_uploader.update(\"new version\")\n",
    "\n",
    "run_time = time.time()-start_time\n",
    "print('Done Saving Images - Total Time: {:.1f}'.format(run_time) + ' Secs')\n",
    "\n",
    "# If you get an error during update, it is typically because of an invalid api key, bad username, \n",
    "# or the dataset does not exist.  This code does not create datasets.  It updates existing ones"
   ]
  }
 ],
 "metadata": {
  "kernelspec": {
   "display_name": "Python 3",
   "language": "python",
   "name": "python3"
  },
  "language_info": {
   "codemirror_mode": {
    "name": "ipython",
    "version": 3
   },
   "file_extension": ".py",
   "mimetype": "text/x-python",
   "name": "python",
   "nbconvert_exporter": "python",
   "pygments_lexer": "ipython3",
   "version": "3.7.9"
  }
 },
 "nbformat": 4,
 "nbformat_minor": 4
}
